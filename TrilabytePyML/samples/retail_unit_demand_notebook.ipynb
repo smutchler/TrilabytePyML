{
 "cells": [
  {
   "cell_type": "markdown",
   "metadata": {},
   "source": [
    "# Setup"
   ]
  },
  {
   "cell_type": "code",
   "execution_count": 1,
   "metadata": {},
   "outputs": [],
   "source": [
    "#\n",
    "# Download https://github.com/smutchler/trilabytePyML to a ZIP file and\n",
    "# place subfoler into C:\\\n",
    "#\n",
    "# You should have this exact path when done correctly: C:\\TrilabytePyML\\trilabytePyML\\AutoForecast.py"
   ]
  },
  {
   "cell_type": "code",
   "execution_count": 11,
   "metadata": {},
   "outputs": [],
   "source": [
    "import sys\n",
    "\n",
    "if 'TrilabytePyML' not in sys.path:\n",
    "    sys.path.insert(1, 'C:\\\\TrilabytePyML')"
   ]
  },
  {
   "cell_type": "markdown",
   "metadata": {},
   "source": [
    "# Data Preparation"
   ]
  },
  {
   "cell_type": "code",
   "execution_count": 12,
   "metadata": {},
   "outputs": [
    {
     "data": {
      "text/html": [
       "<div>\n",
       "<style scoped>\n",
       "    .dataframe tbody tr th:only-of-type {\n",
       "        vertical-align: middle;\n",
       "    }\n",
       "\n",
       "    .dataframe tbody tr th {\n",
       "        vertical-align: top;\n",
       "    }\n",
       "\n",
       "    .dataframe thead th {\n",
       "        text-align: right;\n",
       "    }\n",
       "</style>\n",
       "<table border=\"1\" class=\"dataframe\">\n",
       "  <thead>\n",
       "    <tr style=\"text-align: right;\">\n",
       "      <th></th>\n",
       "      <th>SKU</th>\n",
       "      <th>STORE_NUMBER</th>\n",
       "      <th>CAL_YEAR</th>\n",
       "      <th>CAL_MONTH</th>\n",
       "      <th>CAL_DATE</th>\n",
       "      <th>UNIT_DEMAND</th>\n",
       "      <th>PREDICTOR_1</th>\n",
       "      <th>PREDICTOR_2</th>\n",
       "      <th>PREDICTOR_3</th>\n",
       "      <th>PREDICTOR_4</th>\n",
       "    </tr>\n",
       "  </thead>\n",
       "  <tbody>\n",
       "    <tr>\n",
       "      <th>0</th>\n",
       "      <td>1100</td>\n",
       "      <td>1150</td>\n",
       "      <td>2016</td>\n",
       "      <td>3</td>\n",
       "      <td>3/1/2016</td>\n",
       "      <td>16.0</td>\n",
       "      <td>1.856107</td>\n",
       "      <td>4.916073</td>\n",
       "      <td>6.350111</td>\n",
       "      <td>0.170545</td>\n",
       "    </tr>\n",
       "    <tr>\n",
       "      <th>1</th>\n",
       "      <td>1100</td>\n",
       "      <td>1150</td>\n",
       "      <td>2016</td>\n",
       "      <td>4</td>\n",
       "      <td>4/1/2016</td>\n",
       "      <td>28.0</td>\n",
       "      <td>9.803075</td>\n",
       "      <td>5.647253</td>\n",
       "      <td>40.128298</td>\n",
       "      <td>0.190157</td>\n",
       "    </tr>\n",
       "    <tr>\n",
       "      <th>2</th>\n",
       "      <td>1100</td>\n",
       "      <td>1150</td>\n",
       "      <td>2016</td>\n",
       "      <td>5</td>\n",
       "      <td>5/1/2016</td>\n",
       "      <td>35.0</td>\n",
       "      <td>3.598739</td>\n",
       "      <td>15.927959</td>\n",
       "      <td>29.807851</td>\n",
       "      <td>0.006683</td>\n",
       "    </tr>\n",
       "    <tr>\n",
       "      <th>3</th>\n",
       "      <td>1100</td>\n",
       "      <td>1150</td>\n",
       "      <td>2016</td>\n",
       "      <td>6</td>\n",
       "      <td>6/1/2016</td>\n",
       "      <td>129.0</td>\n",
       "      <td>1.155522</td>\n",
       "      <td>48.465667</td>\n",
       "      <td>17.236057</td>\n",
       "      <td>0.007743</td>\n",
       "    </tr>\n",
       "    <tr>\n",
       "      <th>4</th>\n",
       "      <td>1100</td>\n",
       "      <td>1150</td>\n",
       "      <td>2016</td>\n",
       "      <td>7</td>\n",
       "      <td>7/1/2016</td>\n",
       "      <td>179.0</td>\n",
       "      <td>9.673028</td>\n",
       "      <td>6.603080</td>\n",
       "      <td>39.144862</td>\n",
       "      <td>0.230874</td>\n",
       "    </tr>\n",
       "    <tr>\n",
       "      <th>...</th>\n",
       "      <td>...</td>\n",
       "      <td>...</td>\n",
       "      <td>...</td>\n",
       "      <td>...</td>\n",
       "      <td>...</td>\n",
       "      <td>...</td>\n",
       "      <td>...</td>\n",
       "      <td>...</td>\n",
       "      <td>...</td>\n",
       "      <td>...</td>\n",
       "    </tr>\n",
       "    <tr>\n",
       "      <th>113</th>\n",
       "      <td>1733</td>\n",
       "      <td>993243</td>\n",
       "      <td>2019</td>\n",
       "      <td>8</td>\n",
       "      <td>8/1/2019</td>\n",
       "      <td>NaN</td>\n",
       "      <td>5.563396</td>\n",
       "      <td>13.576681</td>\n",
       "      <td>12.819330</td>\n",
       "      <td>0.038417</td>\n",
       "    </tr>\n",
       "    <tr>\n",
       "      <th>114</th>\n",
       "      <td>1733</td>\n",
       "      <td>993243</td>\n",
       "      <td>2019</td>\n",
       "      <td>9</td>\n",
       "      <td>9/1/2019</td>\n",
       "      <td>NaN</td>\n",
       "      <td>6.663194</td>\n",
       "      <td>43.053491</td>\n",
       "      <td>11.374827</td>\n",
       "      <td>0.144381</td>\n",
       "    </tr>\n",
       "    <tr>\n",
       "      <th>115</th>\n",
       "      <td>1733</td>\n",
       "      <td>993243</td>\n",
       "      <td>2020</td>\n",
       "      <td>10</td>\n",
       "      <td>10/1/2020</td>\n",
       "      <td>NaN</td>\n",
       "      <td>2.270636</td>\n",
       "      <td>29.233220</td>\n",
       "      <td>59.000652</td>\n",
       "      <td>0.288833</td>\n",
       "    </tr>\n",
       "    <tr>\n",
       "      <th>116</th>\n",
       "      <td>1733</td>\n",
       "      <td>993243</td>\n",
       "      <td>2020</td>\n",
       "      <td>11</td>\n",
       "      <td>11/1/2020</td>\n",
       "      <td>NaN</td>\n",
       "      <td>4.903307</td>\n",
       "      <td>49.802078</td>\n",
       "      <td>27.008816</td>\n",
       "      <td>0.017463</td>\n",
       "    </tr>\n",
       "    <tr>\n",
       "      <th>117</th>\n",
       "      <td>1733</td>\n",
       "      <td>993243</td>\n",
       "      <td>2020</td>\n",
       "      <td>12</td>\n",
       "      <td>12/1/2020</td>\n",
       "      <td>NaN</td>\n",
       "      <td>9.184907</td>\n",
       "      <td>38.531775</td>\n",
       "      <td>17.776586</td>\n",
       "      <td>0.109454</td>\n",
       "    </tr>\n",
       "  </tbody>\n",
       "</table>\n",
       "<p>118 rows × 10 columns</p>\n",
       "</div>"
      ],
      "text/plain": [
       "      SKU  STORE_NUMBER  CAL_YEAR  CAL_MONTH   CAL_DATE  UNIT_DEMAND  \\\n",
       "0    1100          1150      2016          3   3/1/2016         16.0   \n",
       "1    1100          1150      2016          4   4/1/2016         28.0   \n",
       "2    1100          1150      2016          5   5/1/2016         35.0   \n",
       "3    1100          1150      2016          6   6/1/2016        129.0   \n",
       "4    1100          1150      2016          7   7/1/2016        179.0   \n",
       "..    ...           ...       ...        ...        ...          ...   \n",
       "113  1733        993243      2019          8   8/1/2019          NaN   \n",
       "114  1733        993243      2019          9   9/1/2019          NaN   \n",
       "115  1733        993243      2020         10  10/1/2020          NaN   \n",
       "116  1733        993243      2020         11  11/1/2020          NaN   \n",
       "117  1733        993243      2020         12  12/1/2020          NaN   \n",
       "\n",
       "     PREDICTOR_1  PREDICTOR_2  PREDICTOR_3  PREDICTOR_4  \n",
       "0       1.856107     4.916073     6.350111     0.170545  \n",
       "1       9.803075     5.647253    40.128298     0.190157  \n",
       "2       3.598739    15.927959    29.807851     0.006683  \n",
       "3       1.155522    48.465667    17.236057     0.007743  \n",
       "4       9.673028     6.603080    39.144862     0.230874  \n",
       "..           ...          ...          ...          ...  \n",
       "113     5.563396    13.576681    12.819330     0.038417  \n",
       "114     6.663194    43.053491    11.374827     0.144381  \n",
       "115     2.270636    29.233220    59.000652     0.288833  \n",
       "116     4.903307    49.802078    27.008816     0.017463  \n",
       "117     9.184907    38.531775    17.776586     0.109454  \n",
       "\n",
       "[118 rows x 10 columns]"
      ]
     },
     "metadata": {},
     "output_type": "display_data"
    }
   ],
   "source": [
    "import pandas as pd\n",
    "\n",
    "pd.options.mode.chained_assignment = None\n",
    "\n",
    "frame = pd.read_csv('C:\\\\TrilabytePyML\\\\samples\\\\retail_unit_demand.csv')\n",
    "display(frame)"
   ]
  },
  {
   "cell_type": "markdown",
   "metadata": {},
   "source": [
    "# Forecast Options"
   ]
  },
  {
   "cell_type": "code",
   "execution_count": 13,
   "metadata": {},
   "outputs": [],
   "source": [
    "options = dict()\n",
    "options['method'] = 'Auto' #'Auto','MLR','ARIMA','Prophet'\n",
    "options['sortColumns'] = ['SKU','STORE_NUMBER','CAL_YEAR','CAL_MONTH']\n",
    "options['splitColumns'] = ['SKU','STORE_NUMBER']\n",
    "options['predictorColumns'] = ['PREDICTOR_1','PREDICTOR_2','PREDICTOR_3','PREDICTOR_4']\n",
    "options['targetColumn'] = 'UNIT_DEMAND'\n",
    "options['timestampColumn'] = 'CAL_DATE' #only needed by Prophet model  \n",
    "options['periodicity'] = 12\n",
    "options['autoDetectOutliers'] = True\n",
    "options['outlierStdevMultiplier'] = 3.0\n",
    "options['seasonalityBandwidth'] = 0.6\n",
    "options['scalePredictors'] = True # MLR only; if true X_COEFFICIENTS become variable importances\n",
    "options['ridgeAlpha'] = 1.0\n",
    "options['forceNonNegative'] = True\n",
    "options['seasonality'] = 'Auto' #'Auto','Additive','Multiplicative'\n",
    "options['hypertune'] = False\n",
    "# how may rows are used for holdout (MAPE calculation)\n",
    "options['numHoldoutRows'] = 6\n",
    "# pass-through to FBProphet\n",
    "options['interval_width'] = 0.95\n",
    "options['changepoint_prior_scale'] = 0.05 \n",
    "options['holidays_prior_scale'] = 10.0\n",
    "options['changepoints_fraction'] = 0.1 # number of change points allowed as fraction of rowcount"
   ]
  },
  {
   "cell_type": "markdown",
   "metadata": {},
   "source": [
    "# Visualizations (first frame only)"
   ]
  },
  {
   "cell_type": "code",
   "execution_count": 14,
   "metadata": {},
   "outputs": [],
   "source": [
    "# limit data to first combination (so that visualizations below work)\n",
    "firstFrame = frame[frame['SKU'] == 1100].dropna()"
   ]
  },
  {
   "cell_type": "code",
   "execution_count": 15,
   "metadata": {
    "scrolled": true
   },
   "outputs": [
    {
     "name": "stderr",
     "output_type": "stream",
     "text": [
      "C:\\Users\\u277445\\Anaconda3\\lib\\site-packages\\pmdarima\\utils\\visualization.py:219: FutureWarning: the 'unbiased'' keyword is deprecated, use 'adjusted' instead\n",
      "  res = tsaplots.plot_acf(\n"
     ]
    },
    {
     "data": {
      "image/png": "[encoded data removed]",
      "text/plain": [
       "<Figure size 576x432 with 3 Axes>"
      ]
     },
     "metadata": {
      "needs_background": "light"
     },
     "output_type": "display_data"
    }
   ],
   "source": [
    "import pmdarima as pm\n",
    "\n",
    "# Time Series Plot, ACF Plot and Histogram of Frequency\n",
    "pm.tsdisplay(firstFrame[options['targetColumn']], lag_max=options['periodicity'], title=options['targetColumn'], show=True) "
   ]
  },
  {
   "cell_type": "code",
   "execution_count": 16,
   "metadata": {},
   "outputs": [
    {
     "data": {
      "image/png": "[encoded data removed]",
      "text/plain": [
       "<Figure size 432x288 with 1 Axes>"
      ]
     },
     "metadata": {
      "needs_background": "light"
     },
     "output_type": "display_data"
    },
    {
     "data": {
      "image/png": "[encoded data removed]",
      "text/plain": [
       "<Figure size 432x288 with 1 Axes>"
      ]
     },
     "metadata": {
      "needs_background": "light"
     },
     "output_type": "display_data"
    },
    {
     "data": {
      "image/png": "[encoded data removed]",
      "text/plain": [
       "<Figure size 432x288 with 1 Axes>"
      ]
     },
     "metadata": {
      "needs_background": "light"
     },
     "output_type": "display_data"
    },
    {
     "data": {
      "image/png": "[encoded data removed]",
      "text/plain": [
       "<Figure size 432x288 with 1 Axes>"
      ]
     },
     "metadata": {
      "needs_background": "light"
     },
     "output_type": "display_data"
    }
   ],
   "source": [
    "import matplotlib.pyplot as plt\n",
    "import numpy as np\n",
    "\n",
    "for predCol in options['predictorColumns']:\n",
    "    if (predCol != 'X_INDEX'):\n",
    "        plt.xcorr(firstFrame[predCol], firstFrame[options['targetColumn']], usevlines=True, maxlags=options['periodicity'], normed=True, lw=2)\n",
    "        plt.title(predCol)\n",
    "        plt.show()"
   ]
  },
  {
   "cell_type": "code",
   "execution_count": 17,
   "metadata": {},
   "outputs": [],
   "source": [
    "import seaborn as sns\n",
    "\n",
    "def cross_correlation_heatmap(cc_df):\n",
    "    # Credit to Bibor Szabo\n",
    "    # https://medium.com/@szabo.bibor/how-to-create-a-seaborn-correlation-heatmap-in-python-834c0686b88e\n",
    "    \n",
    "    plt.figure(figsize=(16, 6))\n",
    "\n",
    "    mask = np.triu(np.ones_like(cc_df.corr(), dtype=np.bool))\n",
    "    heatmap = sns.heatmap(cc_df.corr(), mask=mask, vmin=-1, vmax=1, annot=True, cmap='BrBG')\n",
    "    heatmap.set_title('Triangle Cross Correlation Heatmap', fontdict={'fontsize':18}, pad=16)\n",
    "    plt.savefig('cc_heatmap.png', dpi=300, bbox_inches='tight')\n",
    "       \n",
    "    return()"
   ]
  },
  {
   "cell_type": "code",
   "execution_count": 18,
   "metadata": {},
   "outputs": [
    {
     "data": {
      "text/plain": [
       "()"
      ]
     },
     "execution_count": 18,
     "metadata": {},
     "output_type": "execute_result"
    },
    {
     "data": {
      "image/png": "[encoded data removed]",
      "text/plain": [
       "<Figure size 1152x432 with 2 Axes>"
      ]
     },
     "metadata": {
      "needs_background": "light"
     },
     "output_type": "display_data"
    }
   ],
   "source": [
    "all_vars = [options['targetColumn']] + options['predictorColumns']\n",
    "if ('X_INDEX' in all_vars):\n",
    "    all_vars.remove('X_INDEX')\n",
    "cross_correlation_heatmap(firstFrame[all_vars])"
   ]
  },
  {
   "cell_type": "markdown",
   "metadata": {},
   "source": [
    "# Forecast Generation"
   ]
  },
  {
   "cell_type": "code",
   "execution_count": 19,
   "metadata": {
    "scrolled": true
   },
   "outputs": [
    {
     "name": "stderr",
     "output_type": "stream",
     "text": [
      "Importing plotly failed. Interactive plots will not work.\n"
     ]
    },
    {
     "name": "stdout",
     "output_type": "stream",
     "text": [
      "Auto MAPEs (MLR, ARIMA, Prophet, Ensemble):  [47.46557626680613, 75.40661316908448, 40.622321482734755, 33.79455472925159]\n",
      "Auto MAPEs (MLR, ARIMA, Prophet, Ensemble):  [31.364660296868387, 48.197459207651804, 33.53351118235305, 16.40829063754941]\n"
     ]
    },
    {
     "data": {
      "text/html": [
       "<div>\n",
       "<style scoped>\n",
       "    .dataframe tbody tr th:only-of-type {\n",
       "        vertical-align: middle;\n",
       "    }\n",
       "\n",
       "    .dataframe tbody tr th {\n",
       "        vertical-align: top;\n",
       "    }\n",
       "\n",
       "    .dataframe thead th {\n",
       "        text-align: right;\n",
       "    }\n",
       "</style>\n",
       "<table border=\"1\" class=\"dataframe\">\n",
       "  <thead>\n",
       "    <tr style=\"text-align: right;\">\n",
       "      <th></th>\n",
       "      <th>SKU</th>\n",
       "      <th>STORE_NUMBER</th>\n",
       "      <th>CAL_YEAR</th>\n",
       "      <th>CAL_MONTH</th>\n",
       "      <th>CAL_DATE</th>\n",
       "      <th>UNIT_DEMAND</th>\n",
       "      <th>PREDICTOR_1</th>\n",
       "      <th>PREDICTOR_2</th>\n",
       "      <th>PREDICTOR_3</th>\n",
       "      <th>PREDICTOR_4</th>\n",
       "      <th>...</th>\n",
       "      <th>X_SEASONALITY_TYPE</th>\n",
       "      <th>X_FORECAST</th>\n",
       "      <th>X_MAPE</th>\n",
       "      <th>X_RESIDUAL</th>\n",
       "      <th>X_LPI</th>\n",
       "      <th>X_UPI</th>\n",
       "      <th>X_APE</th>\n",
       "      <th>X_HYPERTUNE</th>\n",
       "      <th>X_ERROR</th>\n",
       "      <th>X_METHOD</th>\n",
       "    </tr>\n",
       "  </thead>\n",
       "  <tbody>\n",
       "    <tr>\n",
       "      <th>0</th>\n",
       "      <td>1100</td>\n",
       "      <td>1150</td>\n",
       "      <td>2016</td>\n",
       "      <td>3</td>\n",
       "      <td>3/1/2016</td>\n",
       "      <td>16.0</td>\n",
       "      <td>1.856107</td>\n",
       "      <td>4.916073</td>\n",
       "      <td>6.350111</td>\n",
       "      <td>0.170545</td>\n",
       "      <td>...</td>\n",
       "      <td>None</td>\n",
       "      <td>11.188387</td>\n",
       "      <td>33.794555</td>\n",
       "      <td>424.073172</td>\n",
       "      <td>0.000000</td>\n",
       "      <td>1221.101868</td>\n",
       "      <td>30.07258</td>\n",
       "      <td>None</td>\n",
       "      <td>None</td>\n",
       "      <td>Ensemble</td>\n",
       "    </tr>\n",
       "    <tr>\n",
       "      <th>1</th>\n",
       "      <td>1100</td>\n",
       "      <td>1150</td>\n",
       "      <td>2016</td>\n",
       "      <td>4</td>\n",
       "      <td>4/1/2016</td>\n",
       "      <td>28.0</td>\n",
       "      <td>9.803075</td>\n",
       "      <td>5.647253</td>\n",
       "      <td>40.128298</td>\n",
       "      <td>0.190157</td>\n",
       "      <td>...</td>\n",
       "      <td>None</td>\n",
       "      <td>27.244017</td>\n",
       "      <td>33.794555</td>\n",
       "      <td>381.162481</td>\n",
       "      <td>0.000000</td>\n",
       "      <td>504.987638</td>\n",
       "      <td>2.699938</td>\n",
       "      <td>None</td>\n",
       "      <td>None</td>\n",
       "      <td>Ensemble</td>\n",
       "    </tr>\n",
       "    <tr>\n",
       "      <th>2</th>\n",
       "      <td>1100</td>\n",
       "      <td>1150</td>\n",
       "      <td>2016</td>\n",
       "      <td>5</td>\n",
       "      <td>5/1/2016</td>\n",
       "      <td>35.0</td>\n",
       "      <td>3.598739</td>\n",
       "      <td>15.927959</td>\n",
       "      <td>29.807851</td>\n",
       "      <td>0.006683</td>\n",
       "      <td>...</td>\n",
       "      <td>None</td>\n",
       "      <td>64.379571</td>\n",
       "      <td>33.794555</td>\n",
       "      <td>371.243314</td>\n",
       "      <td>0.000000</td>\n",
       "      <td>421.965017</td>\n",
       "      <td>83.941632</td>\n",
       "      <td>None</td>\n",
       "      <td>None</td>\n",
       "      <td>Ensemble</td>\n",
       "    </tr>\n",
       "    <tr>\n",
       "      <th>3</th>\n",
       "      <td>1100</td>\n",
       "      <td>1150</td>\n",
       "      <td>2016</td>\n",
       "      <td>6</td>\n",
       "      <td>6/1/2016</td>\n",
       "      <td>129.0</td>\n",
       "      <td>1.155522</td>\n",
       "      <td>48.465667</td>\n",
       "      <td>17.236057</td>\n",
       "      <td>0.007743</td>\n",
       "      <td>...</td>\n",
       "      <td>None</td>\n",
       "      <td>125.277525</td>\n",
       "      <td>33.794555</td>\n",
       "      <td>249.616174</td>\n",
       "      <td>0.000000</td>\n",
       "      <td>414.456998</td>\n",
       "      <td>2.88564</td>\n",
       "      <td>None</td>\n",
       "      <td>None</td>\n",
       "      <td>Ensemble</td>\n",
       "    </tr>\n",
       "    <tr>\n",
       "      <th>4</th>\n",
       "      <td>1100</td>\n",
       "      <td>1150</td>\n",
       "      <td>2016</td>\n",
       "      <td>7</td>\n",
       "      <td>7/1/2016</td>\n",
       "      <td>179.0</td>\n",
       "      <td>9.673028</td>\n",
       "      <td>6.603080</td>\n",
       "      <td>39.144862</td>\n",
       "      <td>0.230874</td>\n",
       "      <td>...</td>\n",
       "      <td>None</td>\n",
       "      <td>302.026617</td>\n",
       "      <td>33.794555</td>\n",
       "      <td>233.089107</td>\n",
       "      <td>0.000000</td>\n",
       "      <td>710.013647</td>\n",
       "      <td>68.729953</td>\n",
       "      <td>None</td>\n",
       "      <td>None</td>\n",
       "      <td>Ensemble</td>\n",
       "    </tr>\n",
       "    <tr>\n",
       "      <th>...</th>\n",
       "      <td>...</td>\n",
       "      <td>...</td>\n",
       "      <td>...</td>\n",
       "      <td>...</td>\n",
       "      <td>...</td>\n",
       "      <td>...</td>\n",
       "      <td>...</td>\n",
       "      <td>...</td>\n",
       "      <td>...</td>\n",
       "      <td>...</td>\n",
       "      <td>...</td>\n",
       "      <td>...</td>\n",
       "      <td>...</td>\n",
       "      <td>...</td>\n",
       "      <td>...</td>\n",
       "      <td>...</td>\n",
       "      <td>...</td>\n",
       "      <td>...</td>\n",
       "      <td>...</td>\n",
       "      <td>...</td>\n",
       "      <td>...</td>\n",
       "    </tr>\n",
       "    <tr>\n",
       "      <th>113</th>\n",
       "      <td>1733</td>\n",
       "      <td>993243</td>\n",
       "      <td>2019</td>\n",
       "      <td>8</td>\n",
       "      <td>8/1/2019</td>\n",
       "      <td>NaN</td>\n",
       "      <td>5.563396</td>\n",
       "      <td>13.576681</td>\n",
       "      <td>12.819330</td>\n",
       "      <td>0.038417</td>\n",
       "      <td>...</td>\n",
       "      <td>None</td>\n",
       "      <td>1408.752961</td>\n",
       "      <td>16.408291</td>\n",
       "      <td>NaN</td>\n",
       "      <td>1029.583695</td>\n",
       "      <td>1683.008078</td>\n",
       "      <td>NaN</td>\n",
       "      <td>None</td>\n",
       "      <td>None</td>\n",
       "      <td>Ensemble</td>\n",
       "    </tr>\n",
       "    <tr>\n",
       "      <th>114</th>\n",
       "      <td>1733</td>\n",
       "      <td>993243</td>\n",
       "      <td>2019</td>\n",
       "      <td>9</td>\n",
       "      <td>9/1/2019</td>\n",
       "      <td>NaN</td>\n",
       "      <td>6.663194</td>\n",
       "      <td>43.053491</td>\n",
       "      <td>11.374827</td>\n",
       "      <td>0.144381</td>\n",
       "      <td>...</td>\n",
       "      <td>None</td>\n",
       "      <td>1489.757703</td>\n",
       "      <td>16.408291</td>\n",
       "      <td>NaN</td>\n",
       "      <td>1097.260565</td>\n",
       "      <td>1679.856307</td>\n",
       "      <td>NaN</td>\n",
       "      <td>None</td>\n",
       "      <td>None</td>\n",
       "      <td>Ensemble</td>\n",
       "    </tr>\n",
       "    <tr>\n",
       "      <th>115</th>\n",
       "      <td>1733</td>\n",
       "      <td>993243</td>\n",
       "      <td>2020</td>\n",
       "      <td>10</td>\n",
       "      <td>10/1/2020</td>\n",
       "      <td>NaN</td>\n",
       "      <td>2.270636</td>\n",
       "      <td>29.233220</td>\n",
       "      <td>59.000652</td>\n",
       "      <td>0.288833</td>\n",
       "      <td>...</td>\n",
       "      <td>None</td>\n",
       "      <td>1428.558554</td>\n",
       "      <td>16.408291</td>\n",
       "      <td>NaN</td>\n",
       "      <td>1010.534419</td>\n",
       "      <td>1616.890740</td>\n",
       "      <td>NaN</td>\n",
       "      <td>None</td>\n",
       "      <td>None</td>\n",
       "      <td>Ensemble</td>\n",
       "    </tr>\n",
       "    <tr>\n",
       "      <th>116</th>\n",
       "      <td>1733</td>\n",
       "      <td>993243</td>\n",
       "      <td>2020</td>\n",
       "      <td>11</td>\n",
       "      <td>11/1/2020</td>\n",
       "      <td>NaN</td>\n",
       "      <td>4.903307</td>\n",
       "      <td>49.802078</td>\n",
       "      <td>27.008816</td>\n",
       "      <td>0.017463</td>\n",
       "      <td>...</td>\n",
       "      <td>None</td>\n",
       "      <td>870.886077</td>\n",
       "      <td>16.408291</td>\n",
       "      <td>NaN</td>\n",
       "      <td>784.614071</td>\n",
       "      <td>1109.464610</td>\n",
       "      <td>NaN</td>\n",
       "      <td>None</td>\n",
       "      <td>None</td>\n",
       "      <td>Ensemble</td>\n",
       "    </tr>\n",
       "    <tr>\n",
       "      <th>117</th>\n",
       "      <td>1733</td>\n",
       "      <td>993243</td>\n",
       "      <td>2020</td>\n",
       "      <td>12</td>\n",
       "      <td>12/1/2020</td>\n",
       "      <td>NaN</td>\n",
       "      <td>9.184907</td>\n",
       "      <td>38.531775</td>\n",
       "      <td>17.776586</td>\n",
       "      <td>0.109454</td>\n",
       "      <td>...</td>\n",
       "      <td>None</td>\n",
       "      <td>610.406376</td>\n",
       "      <td>16.408291</td>\n",
       "      <td>NaN</td>\n",
       "      <td>536.323900</td>\n",
       "      <td>1195.253639</td>\n",
       "      <td>NaN</td>\n",
       "      <td>None</td>\n",
       "      <td>None</td>\n",
       "      <td>Ensemble</td>\n",
       "    </tr>\n",
       "  </tbody>\n",
       "</table>\n",
       "<p>118 rows × 32 columns</p>\n",
       "</div>"
      ],
      "text/plain": [
       "      SKU  STORE_NUMBER  CAL_YEAR  CAL_MONTH   CAL_DATE  UNIT_DEMAND  \\\n",
       "0    1100          1150      2016          3   3/1/2016         16.0   \n",
       "1    1100          1150      2016          4   4/1/2016         28.0   \n",
       "2    1100          1150      2016          5   5/1/2016         35.0   \n",
       "3    1100          1150      2016          6   6/1/2016        129.0   \n",
       "4    1100          1150      2016          7   7/1/2016        179.0   \n",
       "..    ...           ...       ...        ...        ...          ...   \n",
       "113  1733        993243      2019          8   8/1/2019          NaN   \n",
       "114  1733        993243      2019          9   9/1/2019          NaN   \n",
       "115  1733        993243      2020         10  10/1/2020          NaN   \n",
       "116  1733        993243      2020         11  11/1/2020          NaN   \n",
       "117  1733        993243      2020         12  12/1/2020          NaN   \n",
       "\n",
       "     PREDICTOR_1  PREDICTOR_2  PREDICTOR_3  PREDICTOR_4  ...  \\\n",
       "0       1.856107     4.916073     6.350111     0.170545  ...   \n",
       "1       9.803075     5.647253    40.128298     0.190157  ...   \n",
       "2       3.598739    15.927959    29.807851     0.006683  ...   \n",
       "3       1.155522    48.465667    17.236057     0.007743  ...   \n",
       "4       9.673028     6.603080    39.144862     0.230874  ...   \n",
       "..           ...          ...          ...          ...  ...   \n",
       "113     5.563396    13.576681    12.819330     0.038417  ...   \n",
       "114     6.663194    43.053491    11.374827     0.144381  ...   \n",
       "115     2.270636    29.233220    59.000652     0.288833  ...   \n",
       "116     4.903307    49.802078    27.008816     0.017463  ...   \n",
       "117     9.184907    38.531775    17.776586     0.109454  ...   \n",
       "\n",
       "     X_SEASONALITY_TYPE   X_FORECAST     X_MAPE  X_RESIDUAL        X_LPI  \\\n",
       "0                  None    11.188387  33.794555  424.073172     0.000000   \n",
       "1                  None    27.244017  33.794555  381.162481     0.000000   \n",
       "2                  None    64.379571  33.794555  371.243314     0.000000   \n",
       "3                  None   125.277525  33.794555  249.616174     0.000000   \n",
       "4                  None   302.026617  33.794555  233.089107     0.000000   \n",
       "..                  ...          ...        ...         ...          ...   \n",
       "113                None  1408.752961  16.408291         NaN  1029.583695   \n",
       "114                None  1489.757703  16.408291         NaN  1097.260565   \n",
       "115                None  1428.558554  16.408291         NaN  1010.534419   \n",
       "116                None   870.886077  16.408291         NaN   784.614071   \n",
       "117                None   610.406376  16.408291         NaN   536.323900   \n",
       "\n",
       "           X_UPI      X_APE X_HYPERTUNE X_ERROR  X_METHOD  \n",
       "0    1221.101868   30.07258        None    None  Ensemble  \n",
       "1     504.987638   2.699938        None    None  Ensemble  \n",
       "2     421.965017  83.941632        None    None  Ensemble  \n",
       "3     414.456998    2.88564        None    None  Ensemble  \n",
       "4     710.013647  68.729953        None    None  Ensemble  \n",
       "..           ...        ...         ...     ...       ...  \n",
       "113  1683.008078        NaN        None    None  Ensemble  \n",
       "114  1679.856307        NaN        None    None  Ensemble  \n",
       "115  1616.890740        NaN        None    None  Ensemble  \n",
       "116  1109.464610        NaN        None    None  Ensemble  \n",
       "117  1195.253639        NaN        None    None  Ensemble  \n",
       "\n",
       "[118 rows x 32 columns]"
      ]
     },
     "metadata": {},
     "output_type": "display_data"
    }
   ],
   "source": [
    "import trilabytePyML.AutoForecast as af\n",
    "\n",
    "frame = af.splitFramesAndForecast(frame, options)\n",
    "\n",
    "display(frame)"
   ]
  },
  {
   "cell_type": "code",
   "execution_count": 27,
   "metadata": {},
   "outputs": [
    {
     "name": "stderr",
     "output_type": "stream",
     "text": [
      "INFO:matplotlib.category:Using categorical units to plot a list of strings that are all parsable as floats or dates. If these strings should be plotted as numbers, cast to the appropriate data type before plotting.\n",
      "INFO:matplotlib.category:Using categorical units to plot a list of strings that are all parsable as floats or dates. If these strings should be plotted as numbers, cast to the appropriate data type before plotting.\n",
      "INFO:matplotlib.category:Using categorical units to plot a list of strings that are all parsable as floats or dates. If these strings should be plotted as numbers, cast to the appropriate data type before plotting.\n",
      "INFO:matplotlib.category:Using categorical units to plot a list of strings that are all parsable as floats or dates. If these strings should be plotted as numbers, cast to the appropriate data type before plotting.\n"
     ]
    },
    {
     "data": {
      "text/plain": [
       "<matplotlib.legend.Legend at 0x2c50385cbb0>"
      ]
     },
     "execution_count": 27,
     "metadata": {},
     "output_type": "execute_result"
    },
    {
     "data": {
      "image/png": "[encoded data removed]",
      "text/plain": [
       "<Figure size 432x288 with 1 Axes>"
      ]
     },
     "metadata": {
      "needs_background": "light"
     },
     "output_type": "display_data"
    }
   ],
   "source": [
    "firstFrame = frame[frame['SKU'] == 1100]\n",
    "\n",
    "\n",
    "plt.plot(options['timestampColumn'],options['targetColumn'], data=firstFrame, marker='', markerfacecolor='blue', markersize=12, color='skyblue', linewidth=1)\n",
    "plt.plot(options['timestampColumn'],'X_FORECAST', data=firstFrame, marker='', markerfacecolor='orange', markersize=12, color='orange', linewidth=1)\n",
    "plt.legend()"
   ]
  },
  {
   "cell_type": "code",
   "execution_count": 6,
   "metadata": {},
   "outputs": [],
   "source": [
    "frame.to_csv('c:\\\\temp\\\\output.csv')"
   ]
  },
  {
   "cell_type": "code",
   "execution_count": null,
   "metadata": {},
   "outputs": [],
   "source": []
  }
 ],
 "metadata": {
  "kernelspec": {
   "display_name": "Python 3",
   "language": "python",
   "name": "python3"
  },
  "language_info": {
   "codemirror_mode": {
    "name": "ipython",
    "version": 3
   },
   "file_extension": ".py",
   "mimetype": "text/x-python",
   "name": "python",
   "nbconvert_exporter": "python",
   "pygments_lexer": "ipython3",
   "version": "3.8.5"
  }
 },
 "nbformat": 4,
 "nbformat_minor": 4
}
